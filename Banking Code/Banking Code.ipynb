{
 "cells": [
  {
   "cell_type": "code",
   "execution_count": 6,
   "metadata": {
    "scrolled": true
   },
   "outputs": [
    {
     "name": "stdout",
     "output_type": "stream",
     "text": [
      "Enter your card number: 1234567812345678\n",
      "Enter the year: 2020\n",
      "Enter the month: 1\n",
      "The Card is Approved!\n",
      "\n",
      "Please enter your registered mobile number: 9846583546\n",
      "Success!\n",
      "The database:\n",
      " {1234567812345678: {321: {9846583546: 'a1'}}, 1234876556784321: {195: {9756423433: 'a2'}}, 5678432112348765: {398: {9756354657: 'a3'}}, 1526374818273645: {758: {9996576543: 'a4'}}, 8765432187654321: {427: {9867689857: 'a5'}}}\n"
     ]
    }
   ],
   "source": [
    "def bank_func():\n",
    "    val = bank_dict.values()\n",
    "    val1 = list(val)\n",
    "    key = bank_dict.keys()\n",
    "    key1 = list(key)\n",
    "    a = bank_dict.keys()\n",
    "\n",
    "\n",
    "    import random\n",
    "    cvv = []\n",
    "    for item in range(0,5):\n",
    "        x = random.randint(100,999)\n",
    "        cvv.append(x)\n",
    "    cvv1 = cvv\n",
    "    \n",
    "\n",
    "    n = 0\n",
    "    d = {}\n",
    "    for item in cvv1:\n",
    "        h = {val1[n]:{cvv1[n]:{mob1[n]:key1[n]}}}\n",
    "        n+=1\n",
    "        dict_final = d.update(h)\n",
    "    print(\"The database:\\n\", d)\n",
    "\n",
    "bank_dict = {'a1':1234567812345678, 'a2':1234876556784321, 'a3':5678432112348765, 'a4':1526374818273645, 'a5':8765432187654321}\n",
    "check = list(bank_dict.values())\n",
    "mob1 = [9846583546,9756423433,9756354657,9996576543,9867689857]\n",
    "card_num = int(input('Enter your card number: '))\n",
    "card_num_str = str(card_num)\n",
    "if len(card_num_str)!=16:\n",
    "    print(\"Invalid Card number\")\n",
    "    \n",
    "else:\n",
    "    if card_num in check:\n",
    "        year = int(input(\"Enter the year: \"))\n",
    "        if year < 2020:\n",
    "            print(\"The card has expired.\")\n",
    "            \n",
    "        else:\n",
    "            month = int(input(\"Enter the month: \"))\n",
    "            if month < 1 or month > 12:\n",
    "                print(\"The card has expired.\")\n",
    "                \n",
    "            else:\n",
    "                print(\"The Card is Approved!\\n\")\n",
    "                mob_num = int(input(\"Please enter your registered mobile number: \"))\n",
    "                if mob_num in mob1:\n",
    "                    print(\"Success!\")\n",
    "                    bank_func()\n",
    "                else:\n",
    "                    print(\"The mobile number is not registered with the bank. Please try again.\")\n",
    "    \n",
    "    else:\n",
    "        print(\"Invalid Customer.\")"
   ]
  },
  {
   "cell_type": "code",
   "execution_count": null,
   "metadata": {},
   "outputs": [],
   "source": []
  }
 ],
 "metadata": {
  "kernelspec": {
   "display_name": "Python 3",
   "language": "python",
   "name": "python3"
  },
  "language_info": {
   "codemirror_mode": {
    "name": "ipython",
    "version": 3
   },
   "file_extension": ".py",
   "mimetype": "text/x-python",
   "name": "python",
   "nbconvert_exporter": "python",
   "pygments_lexer": "ipython3",
   "version": "3.7.4"
  }
 },
 "nbformat": 4,
 "nbformat_minor": 2
}
