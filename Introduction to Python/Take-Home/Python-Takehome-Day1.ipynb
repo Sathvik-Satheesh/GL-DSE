{
 "cells": [
  {
   "cell_type": "markdown",
   "metadata": {},
   "source": [
    "#### 1. Take two inputs from user and check whether they are equal or not."
   ]
  },
  {
   "cell_type": "code",
   "execution_count": 2,
   "metadata": {},
   "outputs": [
    {
     "name": "stdout",
     "output_type": "stream",
     "text": [
      "Give your input: HAR\n",
      "Give second input: HAR\n",
      "The inputs are equal\n"
     ]
    }
   ],
   "source": [
    "inp1 = input(\"Give your input: \")\n",
    "inp2 = input(\"Give second input: \")\n",
    "if inp1 == inp2:\n",
    "    print(\"The inputs are equal\")\n",
    "else:\n",
    "    print(\"The inputs are not equal\")"
   ]
  },
  {
   "cell_type": "markdown",
   "metadata": {},
   "source": [
    "#### 2. Take an single digit integer input from the user (3), print an output for (3+(33))\n"
   ]
  },
  {
   "cell_type": "code",
   "execution_count": 2,
   "metadata": {},
   "outputs": [
    {
     "name": "stdout",
     "output_type": "stream",
     "text": [
      "Enter a number: 7\n",
      "84\n"
     ]
    }
   ],
   "source": [
    "num = input(\"Enter a number: \")\n",
    "\n",
    "num1 = num + num\n",
    "num2 = int(num) + int(num1)\n",
    "print(num2)"
   ]
  },
  {
   "cell_type": "markdown",
   "metadata": {},
   "source": [
    "#### 3.  Write Python code to get a runtime variable as float and display as integer\n",
    "                   input: float number\n",
    "                   output: int number"
   ]
  },
  {
   "cell_type": "code",
   "execution_count": 7,
   "metadata": {},
   "outputs": [
    {
     "name": "stdout",
     "output_type": "stream",
     "text": [
      "Enter a float number: 45.67\n",
      "45\n"
     ]
    }
   ],
   "source": [
    "num1 = float(input(\"Enter a float number: \"))\n",
    "\n",
    "num2 = int(num1)\n",
    "print(num2)"
   ]
  },
  {
   "cell_type": "markdown",
   "metadata": {},
   "source": [
    "### 4. Create a single string from a LIST of characters."
   ]
  },
  {
   "cell_type": "code",
   "execution_count": 16,
   "metadata": {},
   "outputs": [
    {
     "name": "stdout",
     "output_type": "stream",
     "text": [
      "great\n"
     ]
    }
   ],
   "source": [
    "s = ['g','r','e','a','t']\n",
    "s1 = ''.join(s)\n",
    "print(s1)\n"
   ]
  },
  {
   "cell_type": "markdown",
   "metadata": {},
   "source": [
    "#### 5. Python Program to Convert Celsius To Fahrenheit\n",
    "#####  celsius * 1.8 = fahrenheit - 32"
   ]
  },
  {
   "cell_type": "code",
   "execution_count": 19,
   "metadata": {},
   "outputs": [
    {
     "name": "stdout",
     "output_type": "stream",
     "text": [
      "Enter the temperature in celsius: 29\n",
      "Temperature in Fahrenheit is  84.2\n"
     ]
    }
   ],
   "source": [
    "cel = int(input(\"Enter the temperature in celsius: \"))\n",
    "farh = (cel*1.8) + 32\n",
    "print(\"Temperature in Fahrenheit is \", farh)"
   ]
  },
  {
   "cell_type": "markdown",
   "metadata": {},
   "source": [
    "### 5. Get the number and print it reverse"
   ]
  },
  {
   "cell_type": "code",
   "execution_count": 17,
   "metadata": {},
   "outputs": [
    {
     "name": "stdout",
     "output_type": "stream",
     "text": [
      "Enter a number: 12345\n",
      "The reverse number is 54321\n"
     ]
    }
   ],
   "source": [
    "a = input(\"Enter a number: \")\n",
    "list1 = list(a)\n",
    "\n",
    "b = list1.reverse()\n",
    "\n",
    "c = ''.join(list1)\n",
    "print(\"The reverse number is\", c)\n",
    "\n",
    "\n"
   ]
  },
  {
   "cell_type": "markdown",
   "metadata": {},
   "source": [
    "### 6. Check if the given runtime variable nm = \"madam  is Palindrome without using loop, for validation output can be boolean\n"
   ]
  },
  {
   "cell_type": "code",
   "execution_count": 28,
   "metadata": {},
   "outputs": [
    {
     "name": "stdout",
     "output_type": "stream",
     "text": [
      "True\n"
     ]
    }
   ],
   "source": [
    "nm = \"madam\"\n",
    "\n",
    "nm1 = list(nm)\n",
    "d = nm1.reverse()\n",
    "e = ''.join(nm1)\n",
    "\n",
    "print(nm == e)\n"
   ]
  },
  {
   "cell_type": "markdown",
   "metadata": {},
   "source": [
    "### 7. Python code for the given number of days, find how many weeks and how many days are left\n",
    "### eg. input = 15 days, # weeks =  2, # days left = 1"
   ]
  },
  {
   "cell_type": "code",
   "execution_count": 1,
   "metadata": {},
   "outputs": [
    {
     "name": "stdout",
     "output_type": "stream",
     "text": [
      "Enter the number of days: 15\n",
      "# Weeks = 2\n",
      "# days left = 1\n"
     ]
    }
   ],
   "source": [
    "days = int(input(\"Enter the number of days: \"))\n",
    "print(\"# Weeks = %d\" %(days/7))\n",
    "print(\"# days left = %d\" %(days%7))"
   ]
  },
  {
   "cell_type": "markdown",
   "metadata": {},
   "source": [
    "### 8. Check if the given number is even  without using loops. Output can be in boolean"
   ]
  },
  {
   "cell_type": "code",
   "execution_count": 32,
   "metadata": {},
   "outputs": [
    {
     "name": "stdout",
     "output_type": "stream",
     "text": [
      "Enter a number: 12\n",
      "True\n"
     ]
    }
   ],
   "source": [
    "num_in = float(input(\"Enter a number: \"))\n",
    "\n",
    "eve = num_in % 2\n",
    "\n",
    "print(eve == 0)"
   ]
  },
  {
   "cell_type": "code",
   "execution_count": null,
   "metadata": {},
   "outputs": [],
   "source": []
  }
 ],
 "metadata": {
  "kernelspec": {
   "display_name": "Python 3",
   "language": "python",
   "name": "python3"
  },
  "language_info": {
   "codemirror_mode": {
    "name": "ipython",
    "version": 3
   },
   "file_extension": ".py",
   "mimetype": "text/x-python",
   "name": "python",
   "nbconvert_exporter": "python",
   "pygments_lexer": "ipython3",
   "version": "3.7.4"
  }
 },
 "nbformat": 4,
 "nbformat_minor": 2
}
